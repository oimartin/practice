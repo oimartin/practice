{
 "cells": [
  {
   "cell_type": "code",
   "execution_count": 1,
   "metadata": {},
   "outputs": [],
   "source": [
    "# import dependencies\n",
    "import pandas as pd"
   ]
  },
  {
   "cell_type": "code",
   "execution_count": 2,
   "metadata": {},
   "outputs": [],
   "source": [
    "jan_2014 = pd.read_csv(\"Resources/2014/2014-01-CitiBike-tripdata.csv\")\n",
    "feb_2014 = pd.read_csv(\"Resources/2014/2014-02-CitiBike-tripdata.csv\")\n",
    "march_2014 = pd.read_csv(\"Resources/2014/2014-03-CitiBike-tripdata.csv\")\n",
    "april_2014 = pd.read_csv(\"Resources/2014/2014-04-CitiBike-tripdata.csv\")\n",
    "may_2014 = pd.read_csv(\"Resources/2014/2014-05-CitiBike-tripdata.csv\")\n",
    "june_2014 = pd.read_csv(\"Resources/2014/2014-06-CitiBike-tripdata.csv\")\n",
    "july_2014 = pd.read_csv(\"Resources/2014/2014-07-CitiBike-tripdata.csv\")\n",
    "aug_2014 = pd.read_csv(\"Resources/2014/2014-08-CitiBike-tripdata.csv\")\n",
    "sept_2014 = pd.read_csv(\"Resources/2014/2014-09-CitiBike-tripdata.csv\")\n",
    "oct_2014 = pd.read_csv(\"Resources/2014/2014-10-CitiBike-tripdata.csv\")\n",
    "nov_2014 = pd.read_csv(\"Resources/2014/2014-11-CitiBike-tripdata.csv\")\n",
    "dec_2014 = pd.read_csv(\"Resources/2014/2014-12-CitiBike-tripdata.csv\")"
   ]
  },
  {
   "cell_type": "code",
   "execution_count": 3,
   "metadata": {},
   "outputs": [],
   "source": [
    "frames = [jan_2014, feb_2014, march_2014, april_2014, may_2014, june_2014, \n",
    "          july_2014, aug_2014, sept_2014, oct_2014, nov_2014, dec_2014]\n",
    "\n",
    "full_2014 = pd.concat(frames)"
   ]
  },
  {
   "cell_type": "code",
   "execution_count": 4,
   "metadata": {},
   "outputs": [
    {
     "name": "stdout",
     "output_type": "stream",
     "text": [
      "8081216\n"
     ]
    }
   ],
   "source": [
    "total_length = 0\n",
    "for month in frames:\n",
    "    total_length += len(month)\n",
    "\n",
    "print(total_length)"
   ]
  },
  {
   "cell_type": "code",
   "execution_count": 5,
   "metadata": {},
   "outputs": [
    {
     "data": {
      "text/plain": [
       "8081216"
      ]
     },
     "execution_count": 5,
     "metadata": {},
     "output_type": "execute_result"
    }
   ],
   "source": [
    "len(full_2014)"
   ]
  },
  {
   "cell_type": "code",
   "execution_count": 6,
   "metadata": {},
   "outputs": [
    {
     "data": {
      "text/plain": [
       "tripduration                    0\n",
       "starttime                       0\n",
       "stoptime                        0\n",
       "start station id                0\n",
       "start station name              0\n",
       "start station latitude          0\n",
       "start station longitude         0\n",
       "end station id                  0\n",
       "end station name                0\n",
       "end station latitude            0\n",
       "end station longitude           0\n",
       "bikeid                          0\n",
       "usertype                        0\n",
       "birth year                 212934\n",
       "gender                          0\n",
       "dtype: int64"
      ]
     },
     "execution_count": 6,
     "metadata": {},
     "output_type": "execute_result"
    }
   ],
   "source": [
    "full_2014.isna().sum()"
   ]
  },
  {
   "cell_type": "code",
   "execution_count": 7,
   "metadata": {},
   "outputs": [],
   "source": [
    "jan_2018 = pd.read_csv(\"Resources/2018/2018-01-CitiBike-tripdata.csv\")\n",
    "feb_2018 = pd.read_csv(\"Resources/2018/2018-02-CitiBike-tripdata.csv\")\n",
    "march_2018 = pd.read_csv(\"Resources/2018/2018-03-CitiBike-tripdata.csv\")\n",
    "april_2018 = pd.read_csv(\"Resources/2018/2018-04-CitiBike-tripdata.csv\")\n",
    "may_2018 = pd.read_csv(\"Resources/2018/2018-05-CitiBike-tripdata.csv\")\n",
    "june_2018 = pd.read_csv(\"Resources/2018/2018-06-CitiBike-tripdata.csv\")\n",
    "july_2018 = pd.read_csv(\"Resources/2018/2018-07-CitiBike-tripdata.csv\")\n",
    "aug_2018 = pd.read_csv(\"Resources/2018/2018-08-CitiBike-tripdata.csv\")\n",
    "sept_2018 = pd.read_csv(\"Resources/2018/2018-09-CitiBike-tripdata.csv\")\n",
    "oct_2018 = pd.read_csv(\"Resources/2018/2018-10-CitiBike-tripdata.csv\")\n",
    "nov_2018 = pd.read_csv(\"Resources/2018/2018-11-CitiBike-tripdata.csv\")\n",
    "dec_2018 = pd.read_csv(\"Resources/2018/2018-12-CitiBike-tripdata.csv\")"
   ]
  },
  {
   "cell_type": "code",
   "execution_count": 8,
   "metadata": {},
   "outputs": [],
   "source": [
    "frames_2018 = [jan_2018, feb_2018, march_2018, april_2018, may_2018, june_2018, \n",
    "          july_2018, aug_2018, sept_2018, oct_2018, nov_2018, dec_2018]\n",
    "\n",
    "full_2018 = pd.concat(frames_2018)"
   ]
  },
  {
   "cell_type": "code",
   "execution_count": 9,
   "metadata": {},
   "outputs": [
    {
     "data": {
      "text/plain": [
       "17548339"
      ]
     },
     "execution_count": 9,
     "metadata": {},
     "output_type": "execute_result"
    }
   ],
   "source": [
    "len(full_2018)"
   ]
  },
  {
   "cell_type": "code",
   "execution_count": 10,
   "metadata": {},
   "outputs": [
    {
     "name": "stdout",
     "output_type": "stream",
     "text": [
      "17548339\n"
     ]
    }
   ],
   "source": [
    "total_length_2018 = 0\n",
    "for month in frames_2018:\n",
    "    total_length_2018 += len(month)\n",
    "\n",
    "print(total_length_2018)"
   ]
  },
  {
   "cell_type": "code",
   "execution_count": 11,
   "metadata": {},
   "outputs": [
    {
     "data": {
      "text/plain": [
       "tripduration                  0\n",
       "starttime                     0\n",
       "stoptime                      0\n",
       "start station id           2497\n",
       "start station name         2497\n",
       "start station latitude        0\n",
       "start station longitude       0\n",
       "end station id             2497\n",
       "end station name           2497\n",
       "end station latitude          0\n",
       "end station longitude         0\n",
       "bikeid                        0\n",
       "usertype                      0\n",
       "birth year                    0\n",
       "gender                        0\n",
       "dtype: int64"
      ]
     },
     "execution_count": 11,
     "metadata": {},
     "output_type": "execute_result"
    }
   ],
   "source": [
    "full_2018.isna().sum()"
   ]
  },
  {
   "cell_type": "code",
   "execution_count": 12,
   "metadata": {},
   "outputs": [
    {
     "data": {
      "text/plain": [
       "25629555"
      ]
     },
     "execution_count": 12,
     "metadata": {},
     "output_type": "execute_result"
    }
   ],
   "source": [
    "total_frames = [full_2014, full_2018]\n",
    "compare_2014_2018 = pd.concat(total_frames)\n",
    "len(compare_2014_2018)"
   ]
  },
  {
   "cell_type": "code",
   "execution_count": 14,
   "metadata": {},
   "outputs": [],
   "source": [
    "compare_2014_2018.to_csv(\"Resources/CitiBike_2014_and_2018.csv\")"
   ]
  },
  {
   "cell_type": "code",
   "execution_count": null,
   "metadata": {},
   "outputs": [],
   "source": []
  }
 ],
 "metadata": {
  "kernelspec": {
   "display_name": "Python 3",
   "language": "python",
   "name": "python3"
  },
  "language_info": {
   "codemirror_mode": {
    "name": "ipython",
    "version": 3
   },
   "file_extension": ".py",
   "mimetype": "text/x-python",
   "name": "python",
   "nbconvert_exporter": "python",
   "pygments_lexer": "ipython3",
   "version": "3.7.2"
  }
 },
 "nbformat": 4,
 "nbformat_minor": 2
}
