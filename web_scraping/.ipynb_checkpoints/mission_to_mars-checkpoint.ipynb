{
 "cells": [
  {
   "cell_type": "code",
   "execution_count": 1,
   "metadata": {},
   "outputs": [],
   "source": [
    "# Import dependencies\n",
    "from splinter import Browser\n",
    "from bs4 import BeautifulSoup as bs\n",
    "import pymongo\n",
    "import pandas as pd"
   ]
  },
  {
   "cell_type": "code",
   "execution_count": 2,
   "metadata": {},
   "outputs": [],
   "source": [
    "executable_path = {'executable_path': 'chromedriver.exe'}\n",
    "browser = Browser('chrome', **executable_path, headless=True)"
   ]
  },
  {
   "cell_type": "markdown",
   "metadata": {},
   "source": [
    "# Step 1 - Scrape Mission to Mars Data"
   ]
  },
  {
   "cell_type": "markdown",
   "metadata": {},
   "source": [
    "#### Scrape NASA Mars News"
   ]
  },
  {
   "cell_type": "code",
   "execution_count": 3,
   "metadata": {},
   "outputs": [],
   "source": [
    "# Look at news page for Mars from NASA\n",
    "url = \"https://mars.nasa.gov/news/\"\n",
    "browser.visit(url)\n",
    "\n",
    "html = browser.html\n",
    "# Create a Beautiful Soup object\n",
    "soup = bs(html, 'html.parser')"
   ]
  },
  {
   "cell_type": "code",
   "execution_count": 4,
   "metadata": {
    "scrolled": true
   },
   "outputs": [
    {
     "name": "stdout",
     "output_type": "stream",
     "text": [
      "Mars InSight Lander's 'Mole' Pauses Digging\n"
     ]
    }
   ],
   "source": [
    "# Collect latest news title\n",
    "news_title = soup.find_all('div', class_=\"content_title\")\n",
    "print(news_title[0].text)"
   ]
  },
  {
   "cell_type": "code",
   "execution_count": 7,
   "metadata": {},
   "outputs": [
    {
     "name": "stdout",
     "output_type": "stream",
     "text": [
      "After the mission's heat probe began hammering last week, it appears to have hit a rock. The team is analyzing data before they hammer again.\n"
     ]
    }
   ],
   "source": [
    "# Collect latest new paragraph\n",
    "news_p = soup.select('ul.item_list li.slide div.article_teaser_body')\n",
    "print(news_p[0].text)"
   ]
  },
  {
   "cell_type": "markdown",
   "metadata": {},
   "source": [
    "#### Scrape JPL Mars Space Images - Featured Image"
   ]
  },
  {
   "cell_type": "code",
   "execution_count": 10,
   "metadata": {},
   "outputs": [
    {
     "name": "stdout",
     "output_type": "stream",
     "text": [
      "https://www.jpl.nasa.gov/spaceimages/images/largesize/spaceimages/images/wallpaper/PIA23070-640x350.jpg\n"
     ]
    }
   ],
   "source": [
    "# URL of Mars Images website\n",
    "img_url = \"https://www.jpl.nasa.gov/spaceimages/?search=&category=Mars\"\n",
    "browser.visit(img_url)\n",
    "\n",
    "img_html = browser.html\n",
    "# Create a Beautiful Soup object \n",
    "img_soup = bs(img_html, 'html.parser')\n",
    "\n",
    "# Collect current featured Mars image\n",
    "first_img = img_soup.select_one('div.image_and_description_container div.img img.thumb')\n",
    "first_img_src = first_img['src']\n",
    "\n",
    "base_img_url = 'https://www.jpl.nasa.gov/spaceimages/images/largesize'\n",
    "featured_img_url = base_img_url + first_img_src\n",
    "\n",
    "# Print compiled url\n",
    "print(featured_img_url)"
   ]
  },
  {
   "cell_type": "markdown",
   "metadata": {},
   "source": [
    "#### Scrape Latest Mars Weather Tweet"
   ]
  },
  {
   "cell_type": "code",
   "execution_count": 11,
   "metadata": {},
   "outputs": [
    {
     "name": "stdout",
     "output_type": "stream",
     "text": [
      "InSight sol 99 (2019-03-07) low -95.8ºC (-140.4ºF) high -13.3ºC (8.1ºF)\n",
      "winds from the SW at 4.2 m/s (9.5 mph) gusting to 12.0 m/s (26.8 mph)\n",
      "pressure at 7.20 hPapic.twitter.com/XRi0faFSv5\n"
     ]
    }
   ],
   "source": [
    "# URL of Mars Weather twitter page\n",
    "twitter_url = 'https://twitter.com/marswxreport?lang=en'\n",
    "browser.visit(twitter_url)\n",
    "\n",
    "twitter_html = browser.html\n",
    "\n",
    "# Create a Beautiful Soup object\n",
    "tweet_soup = bs(twitter_html, 'html.parser')\n",
    "\n",
    "# Save text from mars weather latest tweet\n",
    "mars_weather_tweet = tweet_soup.find('p', class_='TweetTextSize TweetTextSize--normal js-tweet-text tweet-text').text\n",
    "print(mars_weather_tweet)"
   ]
  },
  {
   "cell_type": "markdown",
   "metadata": {},
   "source": [
    "#### Scrape Mars Facts"
   ]
  },
  {
   "cell_type": "code",
   "execution_count": 13,
   "metadata": {},
   "outputs": [
    {
     "data": {
      "text/plain": [
       "'<table border=\"1\" class=\"dataframe\">  <thead>    <tr style=\"text-align: right;\">      <th></th>      <th>0</th>      <th>1</th>    </tr>  </thead>  <tbody>    <tr>      <th>0</th>      <td>Equatorial Diameter:</td>      <td>6,792 km</td>    </tr>    <tr>      <th>1</th>      <td>Polar Diameter:</td>      <td>6,752 km</td>    </tr>    <tr>      <th>2</th>      <td>Mass:</td>      <td>6.42 x 10^23 kg (10.7% Earth)</td>    </tr>    <tr>      <th>3</th>      <td>Moons:</td>      <td>2 (Phobos &amp; Deimos)</td>    </tr>    <tr>      <th>4</th>      <td>Orbit Distance:</td>      <td>227,943,824 km (1.52 AU)</td>    </tr>    <tr>      <th>5</th>      <td>Orbit Period:</td>      <td>687 days (1.9 years)</td>    </tr>    <tr>      <th>6</th>      <td>Surface Temperature:</td>      <td>-153 to 20 °C</td>    </tr>    <tr>      <th>7</th>      <td>First Record:</td>      <td>2nd millennium BC</td>    </tr>    <tr>      <th>8</th>      <td>Recorded By:</td>      <td>Egyptian astronomers</td>    </tr>  </tbody></table>'"
      ]
     },
     "execution_count": 13,
     "metadata": {},
     "output_type": "execute_result"
    }
   ],
   "source": [
    "# URL of Space Facts - Mars Facts\n",
    "facts_url = \"https://space-facts.com/mars/\"\n",
    "\n",
    "# Read tables from Space Facts with pandas\n",
    "facts_table = pd.read_html(facts_url)\n",
    "facts_table\n",
    "\n",
    "# Create DataFrame from first table found\n",
    "facts_df = facts_table[0]\n",
    "\n",
    "# Convert facts_df to html string\n",
    "facts_html_table = facts_df.to_html()\n",
    "\n",
    "# Get rid of any extra newlines to clean up table\n",
    "facts_html_table = facts_html_table.replace('\\n', '')\n",
    "facts_html_table"
   ]
  },
  {
   "cell_type": "markdown",
   "metadata": {},
   "source": [
    "#### Scrape USGS Astrogeology site for images of Mar's hemispheres"
   ]
  },
  {
   "cell_type": "code",
   "execution_count": 14,
   "metadata": {},
   "outputs": [],
   "source": [
    "# USGS Astrogeology website\n",
    "hemisphere_url = 'https://astrogeology.usgs.gov/search/results?q=hemisphere+enhanced&k1=target&v1=Mars'\n",
    "browser.visit(hemisphere_url)\n",
    "\n",
    "hemisphere_html = browser.html\n",
    "\n",
    "# Create Beautiful Soup object\n",
    "hemisphere_soup = bs(hemisphere_html, 'html.parser')"
   ]
  },
  {
   "cell_type": "code",
   "execution_count": 15,
   "metadata": {},
   "outputs": [
    {
     "data": {
      "text/plain": [
       "['Cerberus Hemisphere Enhanced',\n",
       " 'Schiaparelli Hemisphere Enhanced',\n",
       " 'Syrtis Major Hemisphere Enhanced',\n",
       " 'Valles Marineris Hemisphere Enhanced']"
      ]
     },
     "execution_count": 15,
     "metadata": {},
     "output_type": "execute_result"
    }
   ],
   "source": [
    "# Create list to save titles/captions of mars hemispheres\n",
    "hemisphere_captions = hemisphere_soup.select(\"a.itemLink  h3\")\n",
    "captions = []\n",
    "for attribute in hemisphere_captions:\n",
    "    caption = attribute.text\n",
    "    captions.append(caption)\n",
    "    \n",
    "captions"
   ]
  },
  {
   "cell_type": "code",
   "execution_count": 16,
   "metadata": {},
   "outputs": [
    {
     "data": {
      "text/plain": [
       "['http://astropedia.astrogeology.usgs.gov/download/Mars/Viking/cerberus_enhanced.tif/full.jpg',\n",
       " 'http://astropedia.astrogeology.usgs.gov/download/Mars/Viking/schiaparelli_enhanced.tif/full.jpg',\n",
       " 'http://astropedia.astrogeology.usgs.gov/download/Mars/Viking/syrtis_major_enhanced.tif/full.jpg',\n",
       " 'http://astropedia.astrogeology.usgs.gov/download/Mars/Viking/valles_marineris_enhanced.tif/full.jpg']"
      ]
     },
     "execution_count": 16,
     "metadata": {},
     "output_type": "execute_result"
    }
   ],
   "source": [
    "# Create list to save high def images of mars hemispheres\n",
    "hemisphere_urls = hemisphere_soup.select('div.item div.description a')\n",
    "urls = []\n",
    "\n",
    "# Perform for loop to iterrate and click through each link to the \n",
    "# high def image link and save link\n",
    "for x in hemisphere_urls:\n",
    "    url = x['href']\n",
    "    \n",
    "#   Create new url to access high def image\n",
    "    enhanced_url = 'https://astrogeology.usgs.gov' + url\n",
    "    browser.visit(enhanced_url)\n",
    "    \n",
    "    enhanced_html = browser.html\n",
    "    enhanced_soup = bs(enhanced_html, 'html.parser')\n",
    "    \n",
    "#   Use enhanced_soup object to find link to high def image\n",
    "    almost_img = enhanced_soup.select_one('div.downloads ul li a')\n",
    "    enhanced_img = almost_img['href']\n",
    "    \n",
    "#   Add full enhanced_img_url to the urls list\n",
    "    urls.append(enhanced_img)\n",
    "    \n",
    "# Check urls list\n",
    "urls"
   ]
  },
  {
   "cell_type": "code",
   "execution_count": 17,
   "metadata": {},
   "outputs": [
    {
     "data": {
      "text/plain": [
       "[{'title': 'Cerberus Hemisphere Enhanced',\n",
       "  'img_urls': 'http://astropedia.astrogeology.usgs.gov/download/Mars/Viking/cerberus_enhanced.tif/full.jpg'},\n",
       " {'title': 'Schiaparelli Hemisphere Enhanced',\n",
       "  'img_urls': 'http://astropedia.astrogeology.usgs.gov/download/Mars/Viking/schiaparelli_enhanced.tif/full.jpg'},\n",
       " {'title': 'Syrtis Major Hemisphere Enhanced',\n",
       "  'img_urls': 'http://astropedia.astrogeology.usgs.gov/download/Mars/Viking/syrtis_major_enhanced.tif/full.jpg'},\n",
       " {'title': 'Valles Marineris Hemisphere Enhanced',\n",
       "  'img_urls': 'http://astropedia.astrogeology.usgs.gov/download/Mars/Viking/valles_marineris_enhanced.tif/full.jpg'}]"
      ]
     },
     "execution_count": 17,
     "metadata": {},
     "output_type": "execute_result"
    }
   ],
   "source": [
    "# Create list of dictionaries for each hemisphere caption and url\n",
    "hemisphere_1 = {'title': captions[0], 'img_urls': urls[0]}\n",
    "hemisphere_2 = {'title': captions[1], 'img_urls': urls[1]}\n",
    "hemisphere_3 = {'title': captions[2], 'img_urls': urls[2]}\n",
    "hemisphere_4 = {'title': captions[3], 'img_urls': urls[3]}\n",
    "\n",
    "# Put hemisphere dictionaries into a list\n",
    "hemisphere_image_urls = [hemisphere_1, hemisphere_2,\n",
    "                         hemisphere_3, hemisphere_4]\n",
    "\n",
    "# Check list of dictionaries\n",
    "hemisphere_image_urls"
   ]
  }
 ],
 "metadata": {
  "kernelspec": {
   "display_name": "Python 3",
   "language": "python",
   "name": "python3"
  },
  "language_info": {
   "codemirror_mode": {
    "name": "ipython",
    "version": 3
   },
   "file_extension": ".py",
   "mimetype": "text/x-python",
   "name": "python",
   "nbconvert_exporter": "python",
   "pygments_lexer": "ipython3",
   "version": "3.7.0"
  }
 },
 "nbformat": 4,
 "nbformat_minor": 2
}
